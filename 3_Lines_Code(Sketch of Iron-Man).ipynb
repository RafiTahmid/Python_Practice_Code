{
 "cells": [
  {
   "cell_type": "code",
   "execution_count": 1,
   "id": "549e3fa8",
   "metadata": {},
   "outputs": [],
   "source": [
    "from sketchpy import library as lib"
   ]
  },
  {
   "cell_type": "code",
   "execution_count": 2,
   "id": "8048b24d",
   "metadata": {},
   "outputs": [],
   "source": [
    "obj = lib.rdj()"
   ]
  },
  {
   "cell_type": "code",
   "execution_count": null,
   "id": "9c1f4b1b",
   "metadata": {},
   "outputs": [],
   "source": [
    "obj. draw()"
   ]
  },
  {
   "cell_type": "code",
   "execution_count": null,
   "id": "92565b9a",
   "metadata": {},
   "outputs": [],
   "source": []
  }
 ],
 "metadata": {
  "kernelspec": {
   "display_name": "Python 3",
   "language": "python",
   "name": "python3"
  },
  "language_info": {
   "codemirror_mode": {
    "name": "ipython",
    "version": 3
   },
   "file_extension": ".py",
   "mimetype": "text/x-python",
   "name": "python",
   "nbconvert_exporter": "python",
   "pygments_lexer": "ipython3",
   "version": "3.8.8"
  }
 },
 "nbformat": 4,
 "nbformat_minor": 5
}
